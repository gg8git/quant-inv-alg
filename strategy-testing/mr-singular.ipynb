{
 "cells": [
  {
   "cell_type": "markdown",
   "metadata": {},
   "source": [
    "## Mean Reversion for a Singular Index - Testing Notebook\n",
    "\n",
    "We will create a program that performs mean reversion on the SPY stock. The main purpose of this program is to build familiarity for how the different libraries interact and how backtesting can be done on a optimized solution.\n",
    "\n",
    "This will be done in three steps:\n",
    "1. import data using openbb\n",
    "2. build sk-learn model to optimize mean reversion strategy\n",
    "3. walk-forward backtesting on historical data using vectorbt\n",
    "\n",
    "In other programs, we will add a fourth step (train sk-learn model with inputs from ta-lib indicators), but the ta-lib indicators are not needed for the mean reversion strategy."
   ]
  },
  {
   "cell_type": "markdown",
   "metadata": {},
   "source": [
    "### Import Libraries"
   ]
  },
  {
   "cell_type": "code",
   "execution_count": 42,
   "metadata": {},
   "outputs": [],
   "source": [
    "from openbb_terminal.sdk import openbb\n",
    "import talib\n",
    "import vectorbt as vbt\n",
    "import numpy as np\n",
    "import pandas as pd\n",
    "import sklearn"
   ]
  },
  {
   "cell_type": "markdown",
   "metadata": {},
   "source": [
    "### Import Data Using OpenBB"
   ]
  },
  {
   "cell_type": "code",
   "execution_count": 33,
   "metadata": {},
   "outputs": [
    {
     "name": "stderr",
     "output_type": "stream",
     "text": [
      "INFO:openbb_terminal.stocks.stocks_helper:START\n",
      "INFO:openbb_terminal.stocks.stocks_helper:{\"INPUT\": {\"start_date\": \"2016-03-18\", \"interval\": \"1440\", \"end_date\": \"2023-01-10\", \"prepost\": \"False\", \"source\": \"YahooFinance\", \"weekly\": \"False\", \"monthly\": \"False\", \"verbose\": \"True\", \"symbol\": \"SPY\", \"chart\": \"False\"}, \"VIRTUAL_PATH\": \"stocks.load\", \"CHART\": false}\n"
     ]
    },
    {
     "data": {
      "text/html": [
       "<pre style=\"white-space:pre;overflow-x:auto;line-height:normal;font-family:Menlo,'DejaVu Sans Mono',consolas,'Courier New',monospace\">Loading Daily data for SPY with starting period 2016-03-18.\n",
       "</pre>\n"
      ],
      "text/plain": [
       "Loading Daily data for SPY with starting period 2016-03-18.\n"
      ]
     },
     "metadata": {},
     "output_type": "display_data"
    },
    {
     "name": "stderr",
     "output_type": "stream",
     "text": [
      "INFO:openbb_terminal.stocks.stocks_helper:END\n"
     ]
    },
    {
     "name": "stdout",
     "output_type": "stream",
     "text": [
      "                  Open        High         Low       Close   Adj Close  \\\n",
      "date                                                                     \n",
      "2016-03-18  178.956873  179.491544  178.632569  179.140945  179.140945   \n",
      "2016-03-21  178.869229  179.631788  178.632568  179.395126  179.395126   \n",
      "2016-03-22  178.597496  179.885966  178.430971  179.298706  179.298706   \n",
      "2016-03-23  178.904332  179.097165  177.940166  178.115479  178.115479   \n",
      "2016-03-24  177.054844  178.071597  176.826956  178.036530  178.036530   \n",
      "...                ...         ...         ...         ...         ...   \n",
      "2023-01-04  378.973683  381.644056  375.828598  379.547333  379.547333   \n",
      "2023-01-05  377.529702  377.648380  374.602204  375.215393  375.215393   \n",
      "2023-01-06  378.409930  384.977055  375.245076  383.819885  383.819885   \n",
      "2023-01-09  386.084751  389.378214  383.414408  383.602295  383.602295   \n",
      "2023-01-10  382.999018  386.361689  382.029765  386.292450  386.292450   \n",
      "\n",
      "               Volume  Dividends  Stock Splits  \n",
      "date                                            \n",
      "2016-03-18  138372400       1.05           0.0  \n",
      "2016-03-21   72926700       0.00           0.0  \n",
      "2016-03-22   97471900       0.00           0.0  \n",
      "2016-03-23   81052500       0.00           0.0  \n",
      "2016-03-24   84360900       0.00           0.0  \n",
      "...               ...        ...           ...  \n",
      "2023-01-04   85934100       0.00           0.0  \n",
      "2023-01-05   76970500       0.00           0.0  \n",
      "2023-01-06  104189600       0.00           0.0  \n",
      "2023-01-09   73978100       0.00           0.0  \n",
      "2023-01-10   65358100       0.00           0.0  \n",
      "\n",
      "[1716 rows x 8 columns]\n",
      "<class 'pandas.core.frame.DataFrame'>\n"
     ]
    }
   ],
   "source": [
    "# grab data\n",
    "\n",
    "ohlcv = openbb.stocks.load(symbol=\"SPY\", start_date=\"2016-03-18\", end_date=\"2023-01-10\")\n",
    "print(ohlcv)\n",
    "print(type(ohlcv))"
   ]
  },
  {
   "cell_type": "code",
   "execution_count": 41,
   "metadata": {},
   "outputs": [
    {
     "name": "stdout",
     "output_type": "stream",
     "text": [
      "                 Close  Rolling Average  Close After Week     Change\n",
      "date                                                                \n",
      "2017-01-03  200.629669       188.405286        201.778748   1.149078\n",
      "2017-01-04  201.823288       188.517427        202.241943   0.418655\n",
      "2017-01-05  201.662933       188.629248        201.529312  -0.133621\n",
      "2017-01-06  202.384460       188.750593        201.974731  -0.409729\n",
      "2017-01-09  201.716400       188.868993        201.226517  -0.489883\n",
      "...                ...              ...               ...        ...\n",
      "2022-12-23  378.706665       392.922739        375.215393  -3.491272\n",
      "2022-12-27  377.213226       392.764674        383.819885   6.606659\n",
      "2022-12-28  372.525238       392.598109        383.602295  11.077057\n",
      "2022-12-29  379.230835       392.420448        386.292450   7.061615\n",
      "2022-12-30  378.231873       392.191807               NaN        NaN\n",
      "\n",
      "[1510 rows x 4 columns]\n"
     ]
    }
   ],
   "source": [
    "# instantiate 200 day mean with close prices\n",
    "\n",
    "closes = ohlcv[\"Close\"]\n",
    "\n",
    "data = pd.DataFrame()\n",
    "\n",
    "data['Close'] = closes\n",
    "data['Rolling Average'] = closes.rolling(window=200).mean()\n",
    "data['Close After Week'] = closes.shift(periods=-7)\n",
    "data['Change'] = data['Close After Week'] - data['Close']\n",
    "data = data['2017-01-01':'2023-01-01']\n",
    "\n",
    "print(data)"
   ]
  },
  {
   "cell_type": "markdown",
   "metadata": {},
   "source": [
    "### Build sk-learn Mean Reversion Model"
   ]
  },
  {
   "cell_type": "code",
   "execution_count": 46,
   "metadata": {},
   "outputs": [],
   "source": [
    "# takes in the closes and rolling averages for the time period and finds optimal trading boundaries, deviation, stoploss, and profit cap (incomplete)\n",
    "\n",
    "# new idea at the end of wednesday: add values to the matrix to represent trading boundaries (a 100 if the close is too far below or above rolling average) and stoploss/profit cap (stock change in the previous three weeks)\n",
    "\n",
    "def mean_reversion_training(prices):\n",
    "    X = prices[[\"Close\",\"Rolling Average\"]].values\n",
    "    y = prices[\"Change\"].values\n",
    "\n",
    "    lasso_model = sklearn.linear_model.Lasso(alpha=1.0)  # You can specify the regularization strength (alpha)\n",
    "    lasso_model.fit(X, y)\n",
    "\n",
    "    return lasso_model\n",
    "    "
   ]
  },
  {
   "cell_type": "markdown",
   "metadata": {},
   "source": [
    "### Backtest SK-Learn Model with VectorBT"
   ]
  },
  {
   "cell_type": "code",
   "execution_count": 51,
   "metadata": {},
   "outputs": [
    {
     "name": "stdout",
     "output_type": "stream",
     "text": [
      "[ 1.66113742e+00  2.14969829e+00  1.47382399e+00  1.30817990e+00\n",
      "  1.11088390e+00  1.01257193e+00  9.37280148e-01  9.29359799e-01\n",
      "  1.05970395e+00  8.16862816e-01  7.66015408e-01  6.03784495e-01\n",
      "  3.16453547e-01  6.13148043e-01  5.68920412e-01  5.58303403e-01\n",
      "  3.75260747e-01  5.42207973e-01  5.71236415e-01  2.28657768e-01\n",
      "  3.60236459e-02  2.58630609e-02 -1.29845651e-01 -2.22586336e-01\n",
      " -1.91490609e-01  2.37404727e-02 -1.81110831e-03 -1.26093100e-02\n",
      " -2.97587368e-01 -3.69135592e-01 -3.16915585e-01 -5.60872762e-01\n",
      " -5.97761978e-01 -6.41085414e-01 -5.57348625e-01 -6.96716381e-01\n",
      " -7.25643157e-01 -7.07200297e-01 -6.95723100e-01 -6.51475851e-01\n",
      " -7.93163611e-01 -7.07384672e-01 -6.74543263e-01 -5.34002137e-01\n",
      " -3.41809883e-01 -2.95778216e-01 -6.22201357e-01 -7.07237418e-01\n",
      " -8.57825606e-01 -8.41139320e-01 -9.53059028e-01 -1.03530530e+00\n",
      " -1.03870734e+00 -9.66504143e-01 -1.22742307e+00 -7.72694293e-01\n",
      " -7.54327105e-01 -9.25117753e-01 -8.02532735e-01 -8.89156474e-01\n",
      " -1.03431934e+00 -1.30959372e+00 -1.31937539e+00 -1.35468771e+00\n",
      " -1.41545827e+00 -1.52800120e+00 -1.54378394e+00 -1.41888399e+00\n",
      " -1.49743645e+00 -1.48777940e+00 -1.64586654e+00 -1.62662219e+00\n",
      " -1.63900049e+00 -1.57707739e+00 -1.62106134e+00 -1.63839132e+00\n",
      " -1.85090932e+00 -1.79414170e+00 -1.77663206e+00 -1.88648065e+00\n",
      " -1.92150758e+00 -1.93122832e+00 -1.74604485e+00 -1.69162932e+00\n",
      " -1.92488563e+00 -1.82250148e+00 -1.41620122e+00 -1.38139665e+00\n",
      " -1.30790420e+00 -1.42551710e+00 -8.26373255e-01 -1.03591763e+00\n",
      " -1.17213940e+00 -1.38885566e+00 -1.23373864e+00 -1.07633816e+00\n",
      " -1.28694754e+00 -1.21324766e+00 -9.24275082e-01 -9.77025249e-01\n",
      " -7.59601638e-01 -6.04439062e-01 -6.67314833e-01]\n",
      "[  8.14265442  12.20472717   7.36541748   6.10697937   5.72761536\n",
      "   7.85586548   3.68273926   4.09910583   5.69061279   5.02442932\n",
      "   2.57235718   0.41641235   1.03631592   6.5418396    6.15325928\n",
      "   7.78178406   6.77322388   8.30921936   6.22732544   2.67410278\n",
      "   0.63842773   3.73820496   2.8037262    1.18431091   4.28411865\n",
      "   7.13401794   7.34698486   6.29217529   4.66360474   4.19152832\n",
      "   4.57099915   1.69338989   0.76800537   1.85980225   1.83200073\n",
      "  -0.1111145   -2.02639771  -3.98802185  -4.38594055  -0.2220459\n",
      "  -0.86053467   1.79510498   1.98016357   4.82928467   7.92390442\n",
      "   8.49781799   4.02529907   6.00906372  -0.79574585  -0.82437134\n",
      "  -0.17657471  -2.49069214  -1.57061768   0.86422729   1.02230835\n",
      "   6.24545288   6.85882568   5.63201904   8.29000854   7.50939941\n",
      "   4.48892212   2.2862854    2.08184814   3.4758606    2.59298706\n",
      "   1.47769165   0.61331177   2.51861572   1.84017944   4.34014893\n",
      "   1.92385864   1.93310547   3.02053833   4.10787964   3.71749878\n",
      "   1.4312439   -1.57998657   1.67285156   0.71563721  -5.09307861\n",
      "  -5.89224243  -6.84020996  -3.44796753  -9.59121704  -9.87930298\n",
      "  -7.21203613  -0.2137146   -1.57058716  -2.51858521  -1.47772217\n",
      "   4.4331665   -1.17098999  -2.11895752  -7.01678467  -7.03546143\n",
      "  -4.57260132 -10.44622803 -10.27882385  -1.49633789   0.16723633\n",
      "   4.32159424   8.71755981   9.23797607]\n",
      "142.89786287764474\n",
      "5\n"
     ]
    }
   ],
   "source": [
    "# testing for first phase (incomplete)\n",
    "\n",
    "model = mean_reversion_training(data['2017-01-01':'2018-12-31'])\n",
    "pred = model.predict(data['2019-01-01':'2019-05-30'][[\"Close\",\"Rolling Average\"]].values)\n",
    "real = data['2019-01-01':'2019-05-30'][\"Change\"].values\n",
    "\n",
    "print(pred)\n",
    "print(real)\n",
    "\n",
    "pred_sim = np.where(pred > 0, 1, -1)\n",
    "real_sim = np.where(real > 0, 1, -1)\n",
    "\n",
    "results = pred * real\n",
    "results_sim = pred_sim * real_sim\n",
    "\n",
    "total_result = np.sum(results)\n",
    "total_result_sim = np.sum(results_sim)\n",
    "\n",
    "print(total_result)\n",
    "print(total_result_sim)"
   ]
  }
 ],
 "metadata": {
  "kernelspec": {
   "display_name": "trade",
   "language": "python",
   "name": "python3"
  },
  "language_info": {
   "codemirror_mode": {
    "name": "ipython",
    "version": 3
   },
   "file_extension": ".py",
   "mimetype": "text/x-python",
   "name": "python",
   "nbconvert_exporter": "python",
   "pygments_lexer": "ipython3",
   "version": "3.9.13"
  },
  "orig_nbformat": 4
 },
 "nbformat": 4,
 "nbformat_minor": 2
}
